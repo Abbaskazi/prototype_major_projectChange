{
 "cells": [
  {
   "cell_type": "code",
   "execution_count": null,
   "metadata": {
    "_kg_hide-input": true,
    "execution": {
     "iopub.execute_input": "2023-06-09T11:43:43.820705Z",
     "iopub.status.busy": "2023-06-09T11:43:43.820273Z",
     "iopub.status.idle": "2023-06-09T11:43:53.082940Z",
     "shell.execute_reply": "2023-06-09T11:43:53.081959Z",
     "shell.execute_reply.started": "2023-06-09T11:43:43.820678Z"
    },
    "papermill": {
     "duration": 8.384792,
     "end_time": "2023-06-09T04:11:42.780544",
     "exception": false,
     "start_time": "2023-06-09T04:11:34.395752",
     "status": "completed"
    },
    "tags": []
   },
   "outputs": [],
   "source": [
    "import random\n",
    "import cv2\n",
    "from keras import backend as K\n",
    "from keras.preprocessing import image\n",
    "from sklearn.metrics import roc_auc_score, roc_curve\n",
    "from tensorflow.compat.v1.logging import INFO, set_verbosity\n",
    "\n",
    "def load_image(img, image_dir, df, preprocess=True, H=320, W=320):\n",
    "    \"\"\"Load and preprocess image.\"\"\"\n",
    "    img_path = image_dir + img\n",
    "    mean, std = get_mean_std_per_batch(img_path, df, H=H, W=W)\n",
    "    x = image.load_img(img_path, target_size=(H, W))\n",
    "    if preprocess:\n",
    "        x -= mean\n",
    "        x /= std\n",
    "        x = np.expand_dims(x, axis=0)\n",
    "    return x"
   ]
  },
  {
   "cell_type": "code",
   "execution_count": null,
   "metadata": {
    "_cell_guid": "b1076dfc-b9ad-4769-8c92-a6c4dae69d19",
    "_uuid": "8f2839f25d086af736a60e9eeb907d3b93b6e0e5",
    "execution": {
     "iopub.execute_input": "2023-06-09T11:43:56.415973Z",
     "iopub.status.busy": "2023-06-09T11:43:56.415310Z",
     "iopub.status.idle": "2023-06-09T11:44:09.348033Z",
     "shell.execute_reply": "2023-06-09T11:44:09.346962Z",
     "shell.execute_reply.started": "2023-06-09T11:43:56.415941Z"
    },
    "papermill": {
     "duration": 13.465695,
     "end_time": "2023-06-09T04:11:56.256845",
     "exception": false,
     "start_time": "2023-06-09T04:11:42.791150",
     "status": "completed"
    },
    "tags": []
   },
   "outputs": [],
   "source": [
    "!pip install -q efficientnet\n",
    "import efficientnet.tfkeras as efn\n",
    "\n",
    "\n",
    "import numpy as np\n",
    "import pandas as pd\n",
    "import seaborn as sns\n",
    "import matplotlib.pyplot as plt\n",
    "from tqdm import tqdm\n",
    "\n",
    "from keras.preprocessing.image import ImageDataGenerator\n",
    "from keras.applications.densenet import DenseNet121\n",
    "from keras.layers import Dense, GlobalAveragePooling2D\n",
    "from keras.models import Model\n",
    "\n",
    "from keras.models import load_model\n",
    "\n",
    "\n",
    "# from tensorflow.keras.applications import DenseNet121\n",
    "import tensorflow as tf\n",
    "import tensorflow.keras.layers as L\n",
    "# import tensorflow.keras.layers as Layers"
   ]
  },
  {
   "cell_type": "code",
   "execution_count": null,
   "metadata": {
    "execution": {
     "iopub.execute_input": "2023-06-09T11:44:09.351711Z",
     "iopub.status.busy": "2023-06-09T11:44:09.350153Z",
     "iopub.status.idle": "2023-06-09T11:44:09.356890Z",
     "shell.execute_reply": "2023-06-09T11:44:09.355892Z",
     "shell.execute_reply.started": "2023-06-09T11:44:09.351671Z"
    },
    "papermill": {
     "duration": 0.019693,
     "end_time": "2023-06-09T04:11:56.287308",
     "exception": false,
     "start_time": "2023-06-09T04:11:56.267615",
     "status": "completed"
    },
    "tags": []
   },
   "outputs": [],
   "source": [
    "from tensorflow.keras.optimizers import Adam"
   ]
  },
  {
   "cell_type": "code",
   "execution_count": null,
   "metadata": {
    "execution": {
     "iopub.execute_input": "2023-06-09T11:44:16.164132Z",
     "iopub.status.busy": "2023-06-09T11:44:16.163777Z",
     "iopub.status.idle": "2023-06-09T11:44:16.185017Z",
     "shell.execute_reply": "2023-06-09T11:44:16.184044Z",
     "shell.execute_reply.started": "2023-06-09T11:44:16.164101Z"
    },
    "papermill": {
     "duration": 0.037113,
     "end_time": "2023-06-09T04:11:56.334855",
     "exception": false,
     "start_time": "2023-06-09T04:11:56.297742",
     "status": "completed"
    },
    "tags": []
   },
   "outputs": [],
   "source": [
    "try:\n",
    "    # TPU detection. No parameters necessary if TPU_NAME environment variable is\n",
    "    # set: this is always the case on Kaggle.\n",
    "    tpu = tf.distribute.cluster_resolver.TPUClusterResolver()\n",
    "    print('Running on TPU ', tpu.master())\n",
    "except ValueError:\n",
    "    tpu = None\n",
    "\n",
    "if tpu:\n",
    "    tf.config.experimental_connect_to_cluster(tpu)\n",
    "    tf.tpu.experimental.initialize_tpu_system(tpu)\n",
    "    strategy = tf.distribute.experimental.TPUStrategy(tpu)\n",
    "else:\n",
    "    # Default distribution strategy in Tensorflow. Works on CPU and single GPU.\n",
    "    strategy = tf.distribute.get_strategy()\n",
    "\n",
    "print(\"REPLICAS: \", strategy.num_replicas_in_sync)"
   ]
  },
  {
   "cell_type": "code",
   "execution_count": null,
   "metadata": {
    "execution": {
     "iopub.execute_input": "2023-06-09T11:44:16.552408Z",
     "iopub.status.busy": "2023-06-09T11:44:16.552064Z",
     "iopub.status.idle": "2023-06-09T11:44:16.557183Z",
     "shell.execute_reply": "2023-06-09T11:44:16.556075Z",
     "shell.execute_reply.started": "2023-06-09T11:44:16.552380Z"
    },
    "papermill": {
     "duration": 0.018286,
     "end_time": "2023-06-09T04:11:56.363746",
     "exception": false,
     "start_time": "2023-06-09T04:11:56.345460",
     "status": "completed"
    },
    "tags": []
   },
   "outputs": [],
   "source": [
    "IMAGE_SIZE=[224,224]\n",
    "EPOCHS = 20\n",
    "BATCH_SIZE = 64\n"
   ]
  },
  {
   "cell_type": "code",
   "execution_count": null,
   "metadata": {
    "execution": {
     "iopub.execute_input": "2023-06-09T11:44:17.360668Z",
     "iopub.status.busy": "2023-06-09T11:44:17.359847Z",
     "iopub.status.idle": "2023-06-09T11:44:17.851427Z",
     "shell.execute_reply": "2023-06-09T11:44:17.850410Z",
     "shell.execute_reply.started": "2023-06-09T11:44:17.360637Z"
    },
    "papermill": {
     "duration": 0.427555,
     "end_time": "2023-06-09T04:11:56.821881",
     "exception": false,
     "start_time": "2023-06-09T04:11:56.394326",
     "status": "completed"
    },
    "tags": []
   },
   "outputs": [],
   "source": [
    "#importing dataset \n",
    "import pandas as pd \n",
    "train_df_main = pd.read_csv('train_df.csv')\n",
    "# valid_df = pd.read_csv(\"nih/valid-small.csv\")\n",
    "# test_df = pd.read_csv(\"nih/test.csv\")\n",
    "\n",
    "train_df_main.drop(['No Finding'], axis = 1, inplace = True)\n",
    "labels = train_df_main.columns[2:-1]\n",
    "labels"
   ]
  },
  {
   "cell_type": "code",
   "execution_count": null,
   "metadata": {
    "execution": {
     "iopub.execute_input": "2023-06-09T11:44:17.853647Z",
     "iopub.status.busy": "2023-06-09T11:44:17.853282Z",
     "iopub.status.idle": "2023-06-09T11:44:17.916270Z",
     "shell.execute_reply": "2023-06-09T11:44:17.915335Z",
     "shell.execute_reply.started": "2023-06-09T11:44:17.853615Z"
    },
    "papermill": {
     "duration": 0.12392,
     "end_time": "2023-06-09T04:11:56.956519",
     "exception": false,
     "start_time": "2023-06-09T04:11:56.832599",
     "status": "completed"
    },
    "tags": []
   },
   "outputs": [],
   "source": [
    "from sklearn.model_selection import train_test_split\n",
    "train_df, discard = train_test_split(train_df_main, test_size = 0.7, random_state = 1993)\n",
    "\n",
    "train_and_valid_set, test_set = train_test_split(train_df, test_size = 0.2, random_state = 1993)\n",
    "train_set, valid_set = train_test_split(train_and_valid_set, test_size = 0.2, random_state = 1993)"
   ]
  },
  {
   "cell_type": "code",
   "execution_count": null,
   "metadata": {
    "execution": {
     "iopub.execute_input": "2023-06-09T11:44:18.630868Z",
     "iopub.status.busy": "2023-06-09T11:44:18.630524Z",
     "iopub.status.idle": "2023-06-09T11:44:18.637721Z",
     "shell.execute_reply": "2023-06-09T11:44:18.636734Z",
     "shell.execute_reply.started": "2023-06-09T11:44:18.630843Z"
    },
    "papermill": {
     "duration": 0.019449,
     "end_time": "2023-06-09T04:11:57.069065",
     "exception": false,
     "start_time": "2023-06-09T04:11:57.049616",
     "status": "completed"
    },
    "tags": []
   },
   "outputs": [],
   "source": [
    "#data leakage eg multiple patient overlaps\n",
    "def check_for_leakage(df1, df2, patient_col):\n",
    "    df1_patients_unique = set(df1[patient_col].values)\n",
    "    df2_patients_unique = set(df2[patient_col].values)\n",
    "    patients_in_both_groups = df1_patients_unique.intersection(df2_patients_unique)\n",
    "    # leakage contains true if there is patient overlap, otherwise false.\n",
    "    leakage = len(patients_in_both_groups)>0 \n",
    "    return leakage"
   ]
  },
  {
   "cell_type": "code",
   "execution_count": null,
   "metadata": {
    "execution": {
     "iopub.execute_input": "2023-06-09T11:44:19.150069Z",
     "iopub.status.busy": "2023-06-09T11:44:19.149727Z",
     "iopub.status.idle": "2023-06-09T11:44:19.160152Z",
     "shell.execute_reply": "2023-06-09T11:44:19.159183Z",
     "shell.execute_reply.started": "2023-06-09T11:44:19.150042Z"
    },
    "papermill": {
     "duration": 0.022301,
     "end_time": "2023-06-09T04:11:57.122571",
     "exception": false,
     "start_time": "2023-06-09T04:11:57.100270",
     "status": "completed"
    },
    "tags": []
   },
   "outputs": [],
   "source": [
    "def get_train_generator(df, image_dir, x_col, y_cols, shuffle=True, batch_size=8, seed=1, target_w = 320, target_h = 320):\n",
    "   \n",
    "    print(\"getting train generator...\")\n",
    "    # normalize images\n",
    "    image_generator = ImageDataGenerator(\n",
    "        samplewise_center=True,\n",
    "        samplewise_std_normalization= True, \n",
    "        shear_range=0.1,\n",
    "        zoom_range=0.15,\n",
    "        rotation_range=5,\n",
    "        width_shift_range=0.1,\n",
    "        height_shift_range=0.05,\n",
    "        horizontal_flip=True, \n",
    "        vertical_flip = False, \n",
    "        rescale=1.0/255.0,\n",
    "        fill_mode = 'reflect')\n",
    "    \n",
    "    \n",
    "    # flow from directory with specified batch size\n",
    "    # and target image size\n",
    "    generator = image_generator.flow_from_dataframe(\n",
    "            dataframe=df,\n",
    "            directory=None,\n",
    "            x_col=x_col,\n",
    "            y_col=y_cols,\n",
    "            class_mode=\"raw\",\n",
    "            batch_size=batch_size,\n",
    "            shuffle=shuffle,\n",
    "            seed=seed,\n",
    "            target_size=(target_w,target_h))\n",
    "    \n",
    "    return generator\n",
    "\n"
   ]
  },
  {
   "cell_type": "code",
   "execution_count": null,
   "metadata": {
    "execution": {
     "iopub.execute_input": "2023-06-09T11:44:20.191768Z",
     "iopub.status.busy": "2023-06-09T11:44:20.190941Z",
     "iopub.status.idle": "2023-06-09T11:45:46.176732Z",
     "shell.execute_reply": "2023-06-09T11:45:46.175753Z",
     "shell.execute_reply.started": "2023-06-09T11:44:20.191728Z"
    },
    "papermill": {
     "duration": 79.623493,
     "end_time": "2023-06-09T04:13:16.812144",
     "exception": false,
     "start_time": "2023-06-09T04:11:57.188651",
     "status": "completed"
    },
    "tags": []
   },
   "outputs": [],
   "source": [
    "train_generator = get_train_generator(df = train_set,\n",
    "                                      image_dir = None, \n",
    "                                      x_col = \"FilePath\",\n",
    "                                      y_cols = labels, \n",
    "                                      batch_size=BATCH_SIZE,\n",
    "                                      target_w = IMAGE_SIZE[0], \n",
    "                                      target_h = IMAGE_SIZE[1] \n",
    "                                      )"
   ]
  },
  {
   "cell_type": "code",
   "execution_count": null,
   "metadata": {
    "execution": {
     "iopub.execute_input": "2023-06-09T11:45:46.179679Z",
     "iopub.status.busy": "2023-06-09T11:45:46.178584Z",
     "iopub.status.idle": "2023-06-09T11:45:49.480327Z",
     "shell.execute_reply": "2023-06-09T11:45:49.479530Z",
     "shell.execute_reply.started": "2023-06-09T11:45:46.179644Z"
    },
    "papermill": {
     "duration": 3.456198,
     "end_time": "2023-06-09T04:13:20.300496",
     "exception": false,
     "start_time": "2023-06-09T04:13:16.844298",
     "status": "completed"
    },
    "tags": []
   },
   "outputs": [],
   "source": [
    "#visualizing images\n",
    "def get_label(y):\n",
    "    ret_labels = []\n",
    "    i = 0\n",
    "    for idx in y:\n",
    "        if idx:\n",
    "            ret_labels.append(labels[i])\n",
    "        i += 1\n",
    "    if not ret_labels:\n",
    "        return 'No Label'\n",
    "    else:\n",
    "        return '|'.join(ret_labels)\n",
    "\n",
    "#get one batch of images from the imageset    \n",
    "x, y = train_generator.__getitem__(0)\n",
    "\n",
    "\n",
    "\n",
    "#show a set of images along with the labels appended at the top as title.\n",
    "fig=plt.figure(figsize=(20, 10))\n",
    "columns = 4; rows =2 \n",
    "for i in tqdm(range(1, columns*rows +1)):\n",
    "    fig.add_subplot(rows, columns, i)\n",
    "    plt.imshow(x[i-1], cmap = 'gray')\n",
    "    plt.title(get_label(y[i-1]))\n",
    "    plt.axis(False)\n",
    "    fig.add_subplot"
   ]
  },
  {
   "cell_type": "code",
   "execution_count": null,
   "metadata": {
    "execution": {
     "iopub.execute_input": "2023-06-09T11:45:50.892942Z",
     "iopub.status.busy": "2023-06-09T11:45:50.892560Z",
     "iopub.status.idle": "2023-06-09T11:45:50.903869Z",
     "shell.execute_reply": "2023-06-09T11:45:50.903023Z",
     "shell.execute_reply.started": "2023-06-09T11:45:50.892911Z"
    },
    "papermill": {
     "duration": 0.030633,
     "end_time": "2023-06-09T04:13:22.135522",
     "exception": false,
     "start_time": "2023-06-09T04:13:22.104889",
     "status": "completed"
    },
    "tags": []
   },
   "outputs": [],
   "source": [
    "import tensorflow as tf\n",
    "from tensorflow.keras.layers import Input, Conv2D, BatchNormalization, ReLU, Concatenate, GlobalAveragePooling2D, Dense\n",
    "from tensorflow.keras.models import Model\n"
   ]
  },
  {
   "cell_type": "code",
   "execution_count": null,
   "metadata": {
    "execution": {
     "iopub.execute_input": "2023-06-09T11:45:50.905794Z",
     "iopub.status.busy": "2023-06-09T11:45:50.905465Z",
     "iopub.status.idle": "2023-06-09T11:45:55.756807Z",
     "shell.execute_reply": "2023-06-09T11:45:55.755832Z",
     "shell.execute_reply.started": "2023-06-09T11:45:50.905764Z"
    },
    "papermill": {
     "duration": 4.57435,
     "end_time": "2023-06-09T04:13:26.728334",
     "exception": false,
     "start_time": "2023-06-09T04:13:22.153984",
     "status": "completed"
    },
    "tags": []
   },
   "outputs": [],
   "source": [
    "with strategy.scope():\n",
    "  \n",
    "    def conv_block(x, growth_rate):\n",
    "        x1 = BatchNormalization()(x)\n",
    "        x1 = ReLU()(x1)\n",
    "        x1 = Conv2D(filters=growth_rate, kernel_size=(3, 3), padding='same')(x1)\n",
    "        x = Concatenate()([x, x1])\n",
    "        return x\n",
    "\n",
    "    def dense_block(x, num_layers, growth_rate):\n",
    "        for _ in range(num_layers):\n",
    "            x = conv_block(x, growth_rate)\n",
    "        return x\n",
    "\n",
    "    def transition_block(x, reduction):\n",
    "        x = BatchNormalization()(x)\n",
    "        x = ReLU()(x)\n",
    "        x = Conv2D(int(tf.keras.backend.int_shape(x)[-1] * reduction), kernel_size=(1, 1), padding='same')(x)\n",
    "        x = tf.keras.layers.AveragePooling2D((2, 2), strides=(2, 2))(x)\n",
    "        return x\n",
    "\n",
    "    def final_diseases_detection_model(input_shape=(224, 224, 3), num_classes=1000, growth_rate=32, num_blocks=[6, 12, 24, 16], reduction=0.5):\n",
    "        inputs = Input(shape=input_shape)\n",
    "        x = Conv2D(64, kernel_size=(7, 7), strides=(2, 2), padding='same')(inputs)\n",
    "        x = BatchNormalization()(x)\n",
    "        x = ReLU()(x)\n",
    "        x = tf.keras.layers.MaxPooling2D(pool_size=(3, 3), strides=(2, 2), padding='same')(x)\n",
    "\n",
    "        num_features = 64\n",
    "        for i, num_layers in enumerate(num_blocks):\n",
    "            x = dense_block(x, num_layers, growth_rate)\n",
    "            num_features += num_layers * growth_rate\n",
    "            if i != len(num_blocks) - 1:\n",
    "                x = transition_block(x, reduction)\n",
    "\n",
    "        x = BatchNormalization()(x)\n",
    "        x = ReLU()(x)\n",
    "        x = GlobalAveragePooling2D()(x)\n",
    "        x = Dense(num_classes, activation='softmax')(x)\n",
    "\n",
    "        model = Model(inputs, x, name='final_diseases_detection_model')\n",
    "        return model\n",
    "    model = final_diseases_detection_model(input_shape = (224,224,3),num_classes=len(labels))\n",
    "from tensorflow.keras.callbacks import ModelCheckpoint\n",
    "\n",
    "# Define the checkpoint callback\n",
    "checkpoint = ModelCheckpoint(\n",
    "    'best_weights.h5',\n",
    "    monitor='val_accuracy',  # Metric to monitor\n",
    "    verbose=1,\n",
    "    save_best_only=True,\n",
    "    mode='max'  # Mode of the monitored metric (e.g., max for accuracy, min for loss)\n",
    ")\n",
    "    \n",
    "    \n",
    "model.compile(\n",
    "    optimizer=tf.keras.optimizers.Adam( learning_rate=1e-4, amsgrad=False), \n",
    "    loss = 'binary_crossentropy',\n",
    "#     loss = get_weighted_loss(pos_weights, neg_weights),\n",
    "    metrics = ['binary_accuracy']\n",
    ")\n",
    "\n",
    "model.summary()\n",
    "\n"
   ]
  },
  {
   "cell_type": "code",
   "execution_count": null,
   "metadata": {
    "execution": {
     "iopub.execute_input": "2023-06-09T11:49:44.829504Z",
     "iopub.status.busy": "2023-06-09T11:49:44.828549Z",
     "iopub.status.idle": "2023-06-09T11:49:44.835166Z",
     "shell.execute_reply": "2023-06-09T11:49:44.834216Z",
     "shell.execute_reply.started": "2023-06-09T11:49:44.829433Z"
    },
    "papermill": {
     "duration": 0.027259,
     "end_time": "2023-06-09T04:13:28.068524",
     "exception": false,
     "start_time": "2023-06-09T04:13:28.041265",
     "status": "completed"
    },
    "tags": []
   },
   "outputs": [],
   "source": [
    "checkpoint = ModelCheckpoint(\n",
    "    'best_weights.h5',\n",
    "    monitor='val_accuracy',  # Metric to monitor\n",
    "    verbose=1,\n",
    "    save_best_only=True,\n",
    "    mode='max'  # Mode of the monitored metric (e.g., max for accuracy, min for loss)\n",
    ")"
   ]
  },
  {
   "cell_type": "code",
   "execution_count": null,
   "metadata": {
    "execution": {
     "iopub.execute_input": "2023-06-09T11:50:01.739666Z",
     "iopub.status.busy": "2023-06-09T11:50:01.739232Z",
     "iopub.status.idle": "2023-06-09T11:50:01.750263Z",
     "shell.execute_reply": "2023-06-09T11:50:01.747568Z",
     "shell.execute_reply.started": "2023-06-09T11:50:01.739636Z"
    },
    "papermill": {
     "duration": 0.03014,
     "end_time": "2023-06-09T04:13:28.116827",
     "exception": false,
     "start_time": "2023-06-09T04:13:28.086687",
     "status": "completed"
    },
    "tags": []
   },
   "outputs": [],
   "source": [
    "def build_lrfn(lr_start=0.002, lr_max=0.010, \n",
    "               lr_min=0, lr_rampup_epochs=8, \n",
    "               lr_sustain_epochs=0, lr_exp_decay=.8):\n",
    "\n",
    "    def lrfn(epoch):\n",
    "        if epoch < lr_rampup_epochs:\n",
    "            lr = (lr_max - lr_start) / lr_rampup_epochs * epoch + lr_start\n",
    "        elif epoch < lr_rampup_epochs + lr_sustain_epochs:\n",
    "            lr = lr_max\n",
    "        else:\n",
    "            lr = (lr_max - lr_min) *\\\n",
    "                 lr_exp_decay**(epoch - lr_rampup_epochs\\\n",
    "                                - lr_sustain_epochs) + lr_min\n",
    "        return lr\n",
    "    return lrfn\n",
    "\n",
    "lrfn = build_lrfn()\n",
    "lr_schedule = tf.keras.callbacks.LearningRateScheduler(lrfn, verbose=True)"
   ]
  },
  {
   "cell_type": "code",
   "execution_count": null,
   "metadata": {
    "execution": {
     "iopub.execute_input": "2023-06-09T04:13:28.155413Z",
     "iopub.status.busy": "2023-06-09T04:13:28.155064Z",
     "iopub.status.idle": "2023-06-09T11:16:29.829112Z",
     "shell.execute_reply": "2023-06-09T11:16:29.827106Z"
    },
    "papermill": {
     "duration": 25382.853779,
     "end_time": "2023-06-09T11:16:30.989011",
     "exception": false,
     "start_time": "2023-06-09T04:13:28.135232",
     "status": "completed"
    },
    "tags": []
   },
   "outputs": [],
   "source": [
    "history = model.fit_generator(train_generator, \n",
    "                              validation_data=valid_generator,\n",
    "                              steps_per_epoch=len(train_generator), \n",
    "                              validation_steps=len(valid_generator), \n",
    "                              epochs = 30,\n",
    "                              callbacks=[checkpoint,lr_schedule]\n",
    "                             )"
   ]
  },
  {
   "cell_type": "code",
   "execution_count": null,
   "metadata": {
    "execution": {
     "iopub.execute_input": "2023-06-09T11:16:33.162446Z",
     "iopub.status.busy": "2023-06-09T11:16:33.162073Z",
     "iopub.status.idle": "2023-06-09T11:16:33.823758Z",
     "shell.execute_reply": "2023-06-09T11:16:33.822874Z"
    },
    "papermill": {
     "duration": 1.796477,
     "end_time": "2023-06-09T11:16:33.825805",
     "exception": false,
     "start_time": "2023-06-09T11:16:32.029328",
     "status": "completed"
    },
    "tags": []
   },
   "outputs": [],
   "source": [
    "def visualize_training(history, lw = 3):\n",
    "    plt.figure(figsize=(10,6))\n",
    "    plt.plot(history.history['binary_accuracy'], label = 'training', marker = '*', linewidth = lw)\n",
    "    plt.plot(history.history['val_binary_accuracy'], label = 'validation', marker = 'o', linewidth = lw)\n",
    "    plt.title('Training Accuracy vs Validation Accuracy')\n",
    "    plt.xlabel('Epochs')\n",
    "    plt.ylabel('Accuracy')\n",
    "    plt.legend(fontsize = 'x-large')\n",
    "    plt.show()\n",
    "\n",
    "    plt.figure(figsize=(10,6))\n",
    "    plt.plot(history.history['loss'], label = 'training', marker = '*', linewidth = lw)\n",
    "    plt.plot(history.history['val_loss'], label = 'validation', marker = 'o', linewidth = lw)\n",
    "    plt.title('Training Loss vs Validation Loss')\n",
    "    plt.xlabel('Epochs')\n",
    "    plt.ylabel('Loss')\n",
    "    plt.legend(fontsize = 'x-large')\n",
    "    plt.show()\n",
    "visualize_training(history)  "
   ]
  },
  {
   "cell_type": "code",
   "execution_count": null,
   "metadata": {
    "execution": {
     "iopub.execute_input": "2023-06-09T11:16:36.043992Z",
     "iopub.status.busy": "2023-06-09T11:16:36.043530Z",
     "iopub.status.idle": "2023-06-09T11:19:29.714800Z",
     "shell.execute_reply": "2023-06-09T11:19:29.713848Z"
    },
    "papermill": {
     "duration": 175.769623,
     "end_time": "2023-06-09T11:19:30.764689",
     "exception": false,
     "start_time": "2023-06-09T11:16:34.995066",
     "status": "completed"
    },
    "tags": []
   },
   "outputs": [],
   "source": [
    "predicted_vals = model.predict_generator(test_generator, steps = len(test_generator))\n",
    "auc_rocs_before =get_roc_curve(labels, predicted_vals, test_generator, when = 'before training')"
   ]
  },
  {
   "cell_type": "code",
   "execution_count": null,
   "metadata": {
    "execution": {
     "iopub.execute_input": "2023-06-09T11:19:32.999410Z",
     "iopub.status.busy": "2023-06-09T11:19:32.999037Z",
     "iopub.status.idle": "2023-06-09T11:19:33.514819Z",
     "shell.execute_reply": "2023-06-09T11:19:33.513882Z"
    },
    "papermill": {
     "duration": 1.69656,
     "end_time": "2023-06-09T11:19:33.517413",
     "exception": false,
     "start_time": "2023-06-09T11:19:31.820853",
     "status": "completed"
    },
    "tags": []
   },
   "outputs": [],
   "source": [
    "model.save_weights('final_diseases_detection_model_weight.h5')"
   ]
  },
  {
   "cell_type": "code",
   "execution_count": null,
   "metadata": {
    "execution": {
     "iopub.execute_input": "2023-06-09T11:19:35.628543Z",
     "iopub.status.busy": "2023-06-09T11:19:35.628024Z",
     "iopub.status.idle": "2023-06-09T11:19:35.659809Z",
     "shell.execute_reply": "2023-06-09T11:19:35.658954Z"
    },
    "papermill": {
     "duration": 1.088863,
     "end_time": "2023-06-09T11:19:35.661895",
     "exception": false,
     "start_time": "2023-06-09T11:19:34.573032",
     "status": "completed"
    },
    "tags": []
   },
   "outputs": [],
   "source": [
    "train_df"
   ]
  },
  {
   "cell_type": "code",
   "execution_count": null,
   "metadata": {
    "papermill": {
     "duration": 1.17357,
     "end_time": "2023-06-09T11:19:37.915818",
     "exception": false,
     "start_time": "2023-06-09T11:19:36.742248",
     "status": "completed"
    },
    "tags": []
   },
   "outputs": [],
   "source": [
    "model.load_weights(\"final_diseases_detection_model_weight.h5\")"
   ]
  },
  {
   "cell_type": "code",
   "execution_count": null,
   "metadata": {},
   "outputs": [],
   "source": [
    "model = tf.keras.models.load_model(\"final_diseases_detection_model.h5\")"
   ]
  },
  {
   "cell_type": "code",
   "execution_count": null,
   "metadata": {
    "scrolled": true
   },
   "outputs": [],
   "source": [
    "import cv2\n",
    "import numpy as np\n",
    "\n",
    "# Load your PNG image\n",
    "image_path = '00009234_001.png'  # Replace with the path to your PNG image\n",
    "image = cv2.imread(image_path)\n",
    "image = cv2.cvtColor(image, cv2.COLOR_BGR2RGB)  # Ensure the image is in RGB format\n",
    "\n",
    "# Resize the image to 224x224 to match the model's input shape\n",
    "image = cv2.resize(image, (224, 224))\n",
    "\n",
    "image = image / 255.0  # Normalize pixel values to [0, 1]\n",
    "\n",
    "# Make a prediction using your model\n",
    "prediction = model.predict(np.expand_dims(image, axis=0))  # Add an extra dimension for batch size\n",
    "\n",
    "# Get the predicted class label and associated probability/confidence\n",
    "predicted_label = np.argmax(prediction)\n",
    "confidence = prediction[0][predicted_label]  # Probability of the predicted class\n",
    "\n",
    "# If you want to map the class index to a class name\n",
    "class_names = [\"Atelectasis\",\"Cardiomegaly\",\"Consolidation\",\"Edema\",\"Effusion\",\"Emphysema\",\"Fibrosis\",\"Hernia\",\"Infiltration\",\"Mass\",\"Nodule\",\"Pleural_Thickening\",\"Pneumonia\",\"Pneumothorax\"]\n",
    "predicted_class_name = class_names[predicted_label]\n",
    "\n",
    "# Now 'predicted_class_name' contains the predicted class name for the single image,\n",
    "# and 'confidence' contains the associated confidence.\n",
    "print(f'Predicted Class: {predicted_class_name}')\n",
    "print(f'Confidence: {confidence * 100:.2f}%')\n"
   ]
  },
  {
   "cell_type": "code",
   "execution_count": null,
   "metadata": {},
   "outputs": [],
   "source": [
    "# Import the necessary modules\n",
    "import tensorflow as tf\n",
    "from tensorflow import keras\n",
    "import os"
   ]
  },
  {
   "cell_type": "code",
   "execution_count": null,
   "metadata": {},
   "outputs": [],
   "source": [
    "# Define the image size and the batch size\n",
    "IMG_SIZE = 224\n",
    "BATCH_SIZE = 32\n"
   ]
  },
  {
   "cell_type": "code",
   "execution_count": null,
   "metadata": {},
   "outputs": [],
   "source": [
    "# Create a data generator that rescales the pixel values to [0, 1] range\n",
    "data_gen = tf.keras.preprocessing.image.ImageDataGenerator(rescale=1./255)\n"
   ]
  },
  {
   "cell_type": "code",
   "execution_count": null,
   "metadata": {},
   "outputs": [],
   "source": [
    "# Load the images from a test directory and create a test dataset\n",
    "test_ds = data_gen.flow_from_directory(\n",
    "    directory=\"D:/TAHAB WORKING FOLDER/hi/images\",\n",
    "    target_size=(IMG_SIZE, IMG_SIZE),\n",
    "    batch_size=BATCH_SIZE,\n",
    "    class_mode=\"categorical\",\n",
    "    shuffle=False\n",
    ")"
   ]
  },
  {
   "cell_type": "code",
   "execution_count": null,
   "metadata": {},
   "outputs": [],
   "source": [
    "# Load the model from the file my_model.h5\n",
    "model = keras.models.load_model(\"final_diseases_detection_model.h5\")"
   ]
  },
  {
   "cell_type": "code",
   "execution_count": null,
   "metadata": {},
   "outputs": [],
   "source": [
    "results = model.evaluate(test_ds)\n",
    "print(\"Test loss:\", results[0])\n",
    "print(\"Test accuracy:\", results[1])"
   ]
  },
  {
   "cell_type": "code",
   "execution_count": null,
   "metadata": {},
   "outputs": [],
   "source": []
  },
  {
   "cell_type": "code",
   "execution_count": null,
   "metadata": {},
   "outputs": [],
   "source": []
  }
 ],
 "metadata": {
  "kernelspec": {
   "display_name": "Python 3 (ipykernel)",
   "language": "python",
   "name": "python3"
  },
  "language_info": {
   "codemirror_mode": {
    "name": "ipython",
    "version": 3
   },
   "file_extension": ".py",
   "mimetype": "text/x-python",
   "name": "python",
   "nbconvert_exporter": "python",
   "pygments_lexer": "ipython3",
   "version": "3.10.9"
  }
 },
 "nbformat": 4,
 "nbformat_minor": 4
}
